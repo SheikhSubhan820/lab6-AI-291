{
 "cells": [
  {
   "cell_type": "code",
   "execution_count": 9,
   "id": "629b49f6-0e33-4ed2-810a-61a99ca38580",
   "metadata": {},
   "outputs": [
    {
     "name": "stderr",
     "output_type": "stream",
     "text": [
      "C:\\Users\\fff\\AppData\\Local\\Temp\\ipykernel_11228\\2119726049.py:24: FutureWarning: DataFrame.applymap has been deprecated. Use DataFrame.map instead.\n",
      "  basket_sets = basket.applymap(encode_units)\n"
     ]
    },
    {
     "name": "stdout",
     "output_type": "stream",
     "text": [
      "Frequent Itemsets:\n",
      "      support                                           itemsets\n",
      "0    0.071429                      (4 TRADITIONAL SPINNING TOPS)\n",
      "1    0.096939                       (ALARM CLOCK BAKELIKE GREEN)\n",
      "2    0.102041                        (ALARM CLOCK BAKELIKE PINK)\n",
      "3    0.094388                         (ALARM CLOCK BAKELIKE RED)\n",
      "4    0.068878                       (ASSORTED COLOUR MINI CASES)\n",
      "..        ...                                                ...\n",
      "108  0.102041  (SET/6 RED SPOTTY PAPER PLATES, SET/20 RED RET...\n",
      "109  0.122449  (SET/6 RED SPOTTY PAPER PLATES, SET/6 RED SPOT...\n",
      "110  0.063776  (ALARM CLOCK BAKELIKE RED, ALARM CLOCK BAKELIK...\n",
      "111  0.068878  (PLASTERS IN TIN WOODLAND ANIMALS, PLASTERS IN...\n",
      "112  0.099490  (SET/6 RED SPOTTY PAPER PLATES, SET/20 RED RET...\n",
      "\n",
      "[113 rows x 2 columns]\n",
      "\n",
      "Association Rules:\n",
      "                    antecedents                   consequents  \\\n",
      "0  (ALARM CLOCK BAKELIKE GREEN)   (ALARM CLOCK BAKELIKE PINK)   \n",
      "1   (ALARM CLOCK BAKELIKE PINK)  (ALARM CLOCK BAKELIKE GREEN)   \n",
      "2    (ALARM CLOCK BAKELIKE RED)  (ALARM CLOCK BAKELIKE GREEN)   \n",
      "3  (ALARM CLOCK BAKELIKE GREEN)    (ALARM CLOCK BAKELIKE RED)   \n",
      "4    (ALARM CLOCK BAKELIKE RED)   (ALARM CLOCK BAKELIKE PINK)   \n",
      "\n",
      "   antecedent support  consequent support   support  confidence      lift  \\\n",
      "0            0.096939            0.102041  0.073980    0.763158  7.478947   \n",
      "1            0.102041            0.096939  0.073980    0.725000  7.478947   \n",
      "2            0.094388            0.096939  0.079082    0.837838  8.642959   \n",
      "3            0.096939            0.094388  0.079082    0.815789  8.642959   \n",
      "4            0.094388            0.102041  0.073980    0.783784  7.681081   \n",
      "\n",
      "   representativity  leverage  conviction  zhangs_metric   jaccard  certainty  \\\n",
      "0               1.0  0.064088    3.791383       0.959283  0.591837   0.736244   \n",
      "1               1.0  0.064088    3.283859       0.964734  0.591837   0.695480   \n",
      "2               1.0  0.069932    5.568878       0.976465  0.704545   0.820431   \n",
      "3               1.0  0.069932    4.916181       0.979224  0.704545   0.796590   \n",
      "4               1.0  0.064348    4.153061       0.960466  0.604167   0.759214   \n",
      "\n",
      "   kulczynski  \n",
      "0    0.744079  \n",
      "1    0.744079  \n",
      "2    0.826814  \n",
      "3    0.826814  \n",
      "4    0.754392  \n"
     ]
    },
    {
     "name": "stderr",
     "output_type": "stream",
     "text": [
      "C:\\Users\\fff\\AppData\\Local\\Programs\\Python\\Python313\\Lib\\site-packages\\mlxtend\\frequent_patterns\\fpcommon.py:161: DeprecationWarning: DataFrames with non-bool types result in worse computationalperformance and their support might be discontinued in the future.Please use a DataFrame with bool type\n",
      "  warnings.warn(\n"
     ]
    }
   ],
   "source": [
    "import pandas as pd\n",
    "from mlxtend.frequent_patterns import apriori, association_rules\n",
    "\n",
    "# Step 1: Load the CSV file with encoding specified\n",
    "df = pd.read_csv('OnlineRetail.csv', encoding='ISO-8859-1')\n",
    "df.head()\n",
    "\n",
    "# Step 2: Data Cleanup\n",
    "df['Description'] = df['Description'].str.strip()\n",
    "df.dropna(axis=0, subset=['InvoiceNo'], inplace=True)\n",
    "df['InvoiceNo'] = df['InvoiceNo'].astype('str')\n",
    "df = df[~df['InvoiceNo'].str.contains('C')]\n",
    "\n",
    "# Step 3: Consolidate items into transactions\n",
    "basket = (df[df['Country'] == \"France\"]\n",
    "          .groupby(['InvoiceNo', 'Description'])['Quantity']\n",
    "          .sum().unstack().reset_index().fillna(0)\n",
    "          .set_index('InvoiceNo'))\n",
    "\n",
    "# Step 4: Convert quantities to 1 and 0\n",
    "def encode_units(x):\n",
    "    return 1 if x >= 1 else 0\n",
    "\n",
    "basket_sets = basket.applymap(encode_units)\n",
    "if 'POSTAGE' in basket_sets.columns:\n",
    "    basket_sets.drop('POSTAGE', inplace=True, axis=1)\n",
    "\n",
    "# Step 5: Generate frequent itemsets with support >= 5%\n",
    "frequent_itemsets = apriori(basket_sets, min_support=0.05, use_colnames=True)\n",
    "print(\"Frequent Itemsets:\")\n",
    "print(frequent_itemsets)\n",
    "\n",
    "# Step 6: Generate association rules\n",
    "rules = association_rules(frequent_itemsets, metric=\"lift\", min_threshold=1, num_itemsets=len(frequent_itemsets))\n",
    "print(\"\\nAssociation Rules:\")\n",
    "print(rules.head())\n"
   ]
  },
  {
   "cell_type": "code",
   "execution_count": null,
   "id": "6fc5402b-9595-48f5-9c82-3c81abc3acfa",
   "metadata": {},
   "outputs": [],
   "source": []
  }
 ],
 "metadata": {
  "kernelspec": {
   "display_name": "Python 3 (ipykernel)",
   "language": "python",
   "name": "python3"
  },
  "language_info": {
   "codemirror_mode": {
    "name": "ipython",
    "version": 3
   },
   "file_extension": ".py",
   "mimetype": "text/x-python",
   "name": "python",
   "nbconvert_exporter": "python",
   "pygments_lexer": "ipython3",
   "version": "3.13.0"
  }
 },
 "nbformat": 4,
 "nbformat_minor": 5
}
