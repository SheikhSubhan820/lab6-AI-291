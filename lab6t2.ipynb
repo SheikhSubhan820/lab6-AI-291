{
 "cells": [
  {
   "cell_type": "code",
   "execution_count": 1,
   "id": "3d8fac73-02e7-4be4-aeaf-43a0b0f8b8d1",
   "metadata": {},
   "outputs": [
    {
     "name": "stdout",
     "output_type": "stream",
     "text": [
      "Cluster centroids: \n",
      " [[2.5  5.25 8.  ]\n",
      " [6.5  2.5  9.75]]\n",
      "Cluster assignments: \n",
      " [0 0 0 0 1 1 1 1]\n"
     ]
    },
    {
     "name": "stderr",
     "output_type": "stream",
     "text": [
      "F:\\anca\\Lib\\site-packages\\sklearn\\cluster\\_kmeans.py:1429: UserWarning: KMeans is known to have a memory leak on Windows with MKL, when there are less chunks than available threads. You can avoid it by setting the environment variable OMP_NUM_THREADS=1.\n",
      "  warnings.warn(\n"
     ]
    }
   ],
   "source": [
    "import numpy as np\n",
    "from sklearn.cluster import KMeans\n",
    "\n",
    "# Sample dataset with 8 objects and 3 coordinates (X, Y, Z)\n",
    "data = np.array([[2, 3, 6],\n",
    "                 [1, 5, 8],\n",
    "                 [4, 7, 10],\n",
    "                 [3, 6, 8],\n",
    "                 [5, 3, 9],\n",
    "                 [7, 4, 12],\n",
    "                 [6, 2, 7],\n",
    "                 [8, 1, 11]])\n",
    "\n",
    "# Apply KMeans algorithm with 2 clusters\n",
    "kmeans = KMeans(n_clusters=2)\n",
    "y_predicted = kmeans.fit_predict(data)\n",
    "\n",
    "# Display the cluster centroids\n",
    "print(\"Cluster centroids: \\n\", kmeans.cluster_centers_)\n",
    "\n",
    "# Display the cluster assignments\n",
    "print(\"Cluster assignments: \\n\", y_predicted)"
   ]
  },
  {
   "cell_type": "code",
   "execution_count": null,
   "id": "69693518-381c-4c9c-8c3f-cf6eb2b1b3cb",
   "metadata": {},
   "outputs": [],
   "source": []
  }
 ],
 "metadata": {
  "kernelspec": {
   "display_name": "Python 3 (ipykernel)",
   "language": "python",
   "name": "python3"
  },
  "language_info": {
   "codemirror_mode": {
    "name": "ipython",
    "version": 3
   },
   "file_extension": ".py",
   "mimetype": "text/x-python",
   "name": "python",
   "nbconvert_exporter": "python",
   "pygments_lexer": "ipython3",
   "version": "3.12.7"
  }
 },
 "nbformat": 4,
 "nbformat_minor": 5
}
