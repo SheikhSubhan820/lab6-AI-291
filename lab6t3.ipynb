{
 "cells": [
  {
   "cell_type": "code",
   "execution_count": 3,
   "id": "8dc3a7ea-398d-40b3-a5ed-5fd79142c188",
   "metadata": {},
   "outputs": [
    {
     "name": "stdout",
     "output_type": "stream",
     "text": [
      "Frequent Itemsets:\n",
      "   support          itemsets\n",
      "0      0.6            (Milk)\n",
      "1      0.8           (Bread)\n",
      "2      0.8          (Butter)\n",
      "3      0.8            (Beer)\n",
      "4      0.6          (Diaper)\n",
      "5      0.6   (Butter, Bread)\n",
      "6      0.6     (Beer, Bread)\n",
      "7      0.6    (Butter, Beer)\n",
      "8      0.6  (Butter, Diaper)\n",
      "\n",
      "Association Rules:\n",
      "  antecedents consequents  antecedent support  consequent support  support  \\\n",
      "0    (Butter)     (Bread)                 0.8                 0.8      0.6   \n",
      "1     (Bread)    (Butter)                 0.8                 0.8      0.6   \n",
      "2      (Beer)     (Bread)                 0.8                 0.8      0.6   \n",
      "3     (Bread)      (Beer)                 0.8                 0.8      0.6   \n",
      "4    (Butter)      (Beer)                 0.8                 0.8      0.6   \n",
      "5      (Beer)    (Butter)                 0.8                 0.8      0.6   \n",
      "6    (Butter)    (Diaper)                 0.8                 0.6      0.6   \n",
      "7    (Diaper)    (Butter)                 0.6                 0.8      0.6   \n",
      "\n",
      "   confidence    lift  representativity  leverage  conviction  zhangs_metric  \\\n",
      "0        0.75  0.9375               1.0     -0.04         0.8          -0.25   \n",
      "1        0.75  0.9375               1.0     -0.04         0.8          -0.25   \n",
      "2        0.75  0.9375               1.0     -0.04         0.8          -0.25   \n",
      "3        0.75  0.9375               1.0     -0.04         0.8          -0.25   \n",
      "4        0.75  0.9375               1.0     -0.04         0.8          -0.25   \n",
      "5        0.75  0.9375               1.0     -0.04         0.8          -0.25   \n",
      "6        0.75  1.2500               1.0      0.12         1.6           1.00   \n",
      "7        1.00  1.2500               1.0      0.12         inf           0.50   \n",
      "\n",
      "   jaccard  certainty  kulczynski  \n",
      "0     0.60     -0.250       0.750  \n",
      "1     0.60     -0.250       0.750  \n",
      "2     0.60     -0.250       0.750  \n",
      "3     0.60     -0.250       0.750  \n",
      "4     0.60     -0.250       0.750  \n",
      "5     0.60     -0.250       0.750  \n",
      "6     0.75      0.375       0.875  \n",
      "7     0.75      1.000       0.875  \n"
     ]
    }
   ],
   "source": [
    "# Importing necessary libraries\n",
    "from mlxtend.frequent_patterns import apriori, association_rules\n",
    "import pandas as pd\n",
    "\n",
    "# Sample transaction data\n",
    "data = {\n",
    "    'Milk': [1, 1, 1, 0, 0],\n",
    "    'Bread': [1, 1, 0, 1, 1],\n",
    "    'Butter': [1, 0, 1, 1, 1],\n",
    "    'Beer': [0, 1, 1, 1, 1],\n",
    "    'Diaper': [1, 0, 1, 1, 0]\n",
    "}\n",
    "\n",
    "# Creating a DataFrame\n",
    "df = pd.DataFrame(data)\n",
    "\n",
    "# Convert the values to boolean (True for 1, False for 0)\n",
    "df = df.astype(bool)\n",
    "\n",
    "# Applying Apriori Algorithm to find frequent itemsets\n",
    "frequent_itemsets = apriori(df, min_support=0.5, use_colnames=True)\n",
    "\n",
    "# Display the frequent itemsets\n",
    "print(\"Frequent Itemsets:\")\n",
    "print(frequent_itemsets)\n",
    "\n",
    "# Generating association rules with min_threshold of 0.7 for confidence\n",
    "# You can specify the number of itemsets you'd like in the association rules (e.g., num_itemsets=2)\n",
    "association_rules_df = association_rules(frequent_itemsets, metric=\"confidence\", min_threshold=0.7, num_itemsets=2)\n",
    "\n",
    "# Display the association rules\n",
    "print(\"\\nAssociation Rules:\")\n",
    "print(association_rules_df)\n"
   ]
  },
  {
   "cell_type": "code",
   "execution_count": null,
   "id": "49027b18-d536-47f4-bc2c-945044cafea6",
   "metadata": {},
   "outputs": [],
   "source": []
  }
 ],
 "metadata": {
  "kernelspec": {
   "display_name": "Python 3 (ipykernel)",
   "language": "python",
   "name": "python3"
  },
  "language_info": {
   "codemirror_mode": {
    "name": "ipython",
    "version": 3
   },
   "file_extension": ".py",
   "mimetype": "text/x-python",
   "name": "python",
   "nbconvert_exporter": "python",
   "pygments_lexer": "ipython3",
   "version": "3.12.7"
  }
 },
 "nbformat": 4,
 "nbformat_minor": 5
}
